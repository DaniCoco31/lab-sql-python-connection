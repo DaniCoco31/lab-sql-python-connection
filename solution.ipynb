{
 "cells": [
  {
   "cell_type": "code",
   "execution_count": 8,
   "metadata": {},
   "outputs": [],
   "source": [
    "from sqlalchemy import create_engine\n",
    "import pandas as pd"
   ]
  },
  {
   "cell_type": "markdown",
   "metadata": {},
   "source": [
    "### Step 1: Establish a Connection\n"
   ]
  },
  {
   "cell_type": "markdown",
   "metadata": {},
   "source": [
    "#### Set the conection details"
   ]
  },
  {
   "cell_type": "code",
   "execution_count": 10,
   "metadata": {},
   "outputs": [],
   "source": [
    "# Database connection details\n",
    "host = 'localhost'\n",
    "user = 'danicoco'\n",
    "password = 'password'\n",
    "database = 'sakila'\n",
    "port = '3306'  "
   ]
  },
  {
   "cell_type": "markdown",
   "metadata": {},
   "source": [
    "# Connect to the Database Legos"
   ]
  },
  {
   "cell_type": "code",
   "execution_count": 13,
   "metadata": {},
   "outputs": [],
   "source": [
    "# Connect to the database\n",
    "DATABASE_URI = f'mysql+pymysql://{user}:{password}@{host}:{port}/{database}'\n",
    "# Create the database engine\n",
    "engine = create_engine(DATABASE_URI)"
   ]
  },
  {
   "cell_type": "code",
   "execution_count": 14,
   "metadata": {},
   "outputs": [],
   "source": [
    "def rentals_month(engine, month, year):\n",
    "    query = f\"\"\"\n",
    "    SELECT rental_id, rental_date, customer_id, return_date, staff_id, inventory_id\n",
    "    FROM rental\n",
    "    WHERE MONTH(rental_date) = {month} AND YEAR(rental_date) = {year}\n",
    "    \"\"\"\n",
    "    with engine.connect() as conn:\n",
    "        df = pd.read_sql(query, conn)\n",
    "    return df\n",
    "\n",
    "def rental_count_month(df, month, year):\n",
    "    rental_counts = df.groupby('customer_id').size().reset_index(name=f'rentals_{month:02d}_{year}')\n",
    "    return rental_counts\n",
    "\n",
    "def compare_rentals(df1, df2, month1, year1, month2, year2):\n",
    "    df_merged = pd.merge(df1, df2, on='customer_id', how='outer').fillna(0)\n",
    "    df_merged['difference'] = df_merged[f'rentals_{month2:02d}_{year2}'] - df_merged[f'rentals_{month1:02d}_{year1}']\n",
    "    return df_merged\n"
   ]
  },
  {
   "cell_type": "code",
   "execution_count": 15,
   "metadata": {},
   "outputs": [],
   "source": [
    "# Retrieve rental data for May and June\n",
    "df_may = rentals_month(engine, 5, 2005)\n",
    "df_june = rentals_month(engine, 6, 2005)\n"
   ]
  },
  {
   "cell_type": "code",
   "execution_count": 16,
   "metadata": {},
   "outputs": [],
   "source": [
    "# Get rental counts for May and June\n",
    "rental_counts_may = rental_count_month(df_may, 5, 2005)\n",
    "rental_counts_june = rental_count_month(df_june, 6, 2005)"
   ]
  },
  {
   "cell_type": "code",
   "execution_count": 17,
   "metadata": {},
   "outputs": [],
   "source": [
    "# Compare rental counts between May and June\n",
    "comparison_df = compare_rentals(rental_counts_may, rental_counts_june, 5, 2005, 6, 2005)\n"
   ]
  },
  {
   "cell_type": "code",
   "execution_count": 18,
   "metadata": {},
   "outputs": [
    {
     "name": "stdout",
     "output_type": "stream",
     "text": [
      "     customer_id  rentals_05_2005  rentals_06_2005  difference\n",
      "0              1              2.0              7.0         5.0\n",
      "1              2              1.0              1.0         0.0\n",
      "2              3              2.0              4.0         2.0\n",
      "3              5              3.0              5.0         2.0\n",
      "4              6              3.0              4.0         1.0\n",
      "..           ...              ...              ...         ...\n",
      "593          583              0.0              6.0         6.0\n",
      "594          585              0.0              4.0         4.0\n",
      "595          591              0.0              3.0         3.0\n",
      "596          592              0.0              5.0         5.0\n",
      "597          598              0.0              1.0         1.0\n",
      "\n",
      "[598 rows x 4 columns]\n"
     ]
    }
   ],
   "source": [
    "# Display the comparison DataFrame\n",
    "print(comparison_df)"
   ]
  },
  {
   "cell_type": "code",
   "execution_count": null,
   "metadata": {},
   "outputs": [],
   "source": []
  }
 ],
 "metadata": {
  "kernelspec": {
   "display_name": "base",
   "language": "python",
   "name": "python3"
  },
  "language_info": {
   "codemirror_mode": {
    "name": "ipython",
    "version": 3
   },
   "file_extension": ".py",
   "mimetype": "text/x-python",
   "name": "python",
   "nbconvert_exporter": "python",
   "pygments_lexer": "ipython3",
   "version": "3.11.7"
  }
 },
 "nbformat": 4,
 "nbformat_minor": 2
}
